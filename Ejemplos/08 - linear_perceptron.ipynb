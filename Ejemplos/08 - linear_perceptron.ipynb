{
 "cells": [
  {
   "cell_type": "code",
   "execution_count": null,
   "metadata": {},
   "outputs": [],
   "source": [
    "import numpy as np\n",
    "\n",
    "# N = número de ejemplos, D_in = dimensionalidad input, D_out = dimensionalidad output.\n",
    "N, D_in, D_out = 64, 1000, 1\n",
    "\n",
    "# Datos de entrada y salida aleatorios (¿que relación tiene esto con el sobreajuste?)\n",
    "x = np.random.randn(N, D_in)\n",
    "y = np.random.randn(N, D_out)\n",
    "\n",
    "# Pesos iniciales aleatorios para el Perceptrón\n",
    "w = np.random.randn(D_in, D_out)\n",
    "\n",
    "learning_rate = 1e-5\n",
    "loss = 1e6\n",
    "iteration = 1\n",
    "while loss > 1e-3:\n",
    "    y_pred = x.dot(w)\n",
    "    loss = 0.5*np.square(y_pred - y).sum()\n",
    "    print(\"Loss at iteration %d is:\" % iteration, loss)\n",
    "\n",
    "    grad_y_pred = y_pred - y\n",
    "    grad_w = x.T.dot(grad_y_pred)\n",
    "    w -= learning_rate * grad_w\n",
    "    iteration+=1"
   ]
  }
 ],
 "metadata": {
  "kernelspec": {
   "display_name": "Python 3",
   "language": "python",
   "name": "python3"
  },
  "language_info": {
   "codemirror_mode": {
    "name": "ipython",
    "version": 3
   },
   "file_extension": ".py",
   "mimetype": "text/x-python",
   "name": "python",
   "nbconvert_exporter": "python",
   "pygments_lexer": "ipython3",
   "version": "3.6.3"
  }
 },
 "nbformat": 4,
 "nbformat_minor": 2
}
