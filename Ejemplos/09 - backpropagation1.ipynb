{
 "cells": [
  {
   "cell_type": "code",
   "execution_count": null,
   "metadata": {},
   "outputs": [],
   "source": [
    "import numpy as np"
   ]
  },
  {
   "cell_type": "code",
   "execution_count": null,
   "metadata": {},
   "outputs": [],
   "source": [
    "class Var:\n",
    "    def __init__(self, value, grad):\n",
    "        self.value = value\n",
    "        self.grad = grad"
   ]
  },
  {
   "cell_type": "code",
   "execution_count": null,
   "metadata": {},
   "outputs": [],
   "source": [
    "class AddGate:\n",
    "    def __init__(self):\n",
    "        self.x = None\n",
    "        self.y = None\n",
    "        self.z = None\n",
    "    def forward(self, x, y):\n",
    "        self.x = x\n",
    "        self.y = y\n",
    "        self.z = Var(self.x.value + self.y.value, 0.0)\n",
    "        return self.z\n",
    "    def backward(self):\n",
    "        self.x.grad += 1 * self.z.grad\n",
    "        self.y.grad += 1 * self.z.grad"
   ]
  },
  {
   "cell_type": "code",
   "execution_count": null,
   "metadata": {},
   "outputs": [],
   "source": [
    "class MulGate:\n",
    "    def __init__(self):\n",
    "        self.x = None\n",
    "        self.y = None\n",
    "        self.z = None\n",
    "    def forward(self, x, y):\n",
    "        self.x = x\n",
    "        self.y = y\n",
    "        self.z = Var(self.x.value * self.y.value, 0.0)\n",
    "        return self.z\n",
    "    def backward(self):\n",
    "        self.x.grad += self.y.value * self.z.grad\n",
    "        self.y.grad += self.x.value * self.z.grad"
   ]
  },
  {
   "cell_type": "code",
   "execution_count": null,
   "metadata": {},
   "outputs": [],
   "source": [
    "class SigmoidGate:\n",
    "    def __init__(self):\n",
    "        self.x = None\n",
    "        self.z = None\n",
    "    def sigmoid(x):\n",
    "        return 1/(1+np.exp(-x))\n",
    "    def forward(self, x):\n",
    "        self.x = x\n",
    "        self.z = Var(SigmoidGate.sigmoid(self.x.value), 0.0)\n",
    "        return self.z\n",
    "    def backward(self):\n",
    "        s = self.z.value\n",
    "        self.x.grad += s * (1-s) * self.z.grad"
   ]
  },
  {
   "cell_type": "code",
   "execution_count": null,
   "metadata": {},
   "outputs": [],
   "source": [
    "# value and gates definition\n",
    "w0 = Var(2.0, 0.0)\n",
    "w1 = Var(-3.0, 0.0)\n",
    "w2 = Var(-3.0, 0.0)\n",
    "x = Var(-1.0, 0.0)\n",
    "y = Var(-2.0, 0.0)\n",
    "\n",
    "mulg0 = MulGate()\n",
    "mulg1 = MulGate()\n",
    "addg0 = AddGate()\n",
    "addg1 = AddGate()\n",
    "sg0 = SigmoidGate()"
   ]
  },
  {
   "cell_type": "code",
   "execution_count": null,
   "metadata": {},
   "outputs": [],
   "source": [
    "# forward pass\n",
    "def forwardNetwork():\n",
    "    w0x = mulg0.forward(w0, x)\n",
    "    w1y = mulg1.forward(w1, y)\n",
    "    w0xpw1y = addg0.forward(w0x, w1y)\n",
    "    w0xpw1ypw2 = addg1.forward(w0xpw1y, w2)\n",
    "    return  sg0.forward(w0xpw1ypw2)\n",
    "\n",
    "s = forwardNetwork()\n",
    "print('network output: ' + str(s.value))"
   ]
  },
  {
   "cell_type": "code",
   "execution_count": null,
   "metadata": {},
   "outputs": [],
   "source": [
    "# backward pass\n",
    "def backwardNetwork():\n",
    "    s.grad = 1.0;\n",
    "    sg0.backward()\n",
    "    addg1.backward()\n",
    "    addg0.backward()\n",
    "    mulg1.backward()\n",
    "    mulg0.backward()\n",
    "\n",
    "backwardNetwork()"
   ]
  },
  {
   "cell_type": "code",
   "execution_count": null,
   "metadata": {},
   "outputs": [],
   "source": [
    "# one step of gradient ascent\n",
    "step_size = 0.01;\n",
    "w0.value += step_size * w0.grad \n",
    "w1.value += step_size * w1.grad\n",
    "w2.value += step_size * w2.grad\n",
    "x.value += step_size * x.grad\n",
    "y.value += step_size * y.grad\n",
    "\n",
    "s = forwardNetwork()\n",
    "print('network output after one step of gradient ascent: ' + str(s.value))"
   ]
  }
 ],
 "metadata": {
  "kernelspec": {
   "display_name": "Python 3",
   "language": "python",
   "name": "python3"
  },
  "language_info": {
   "codemirror_mode": {
    "name": "ipython",
    "version": 3
   },
   "file_extension": ".py",
   "mimetype": "text/x-python",
   "name": "python",
   "nbconvert_exporter": "python",
   "pygments_lexer": "ipython3",
   "version": "3.6.3"
  }
 },
 "nbformat": 4,
 "nbformat_minor": 2
}
