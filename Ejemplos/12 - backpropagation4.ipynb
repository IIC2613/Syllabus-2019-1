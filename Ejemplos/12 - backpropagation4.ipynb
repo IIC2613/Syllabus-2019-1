{
 "cells": [
  {
   "cell_type": "code",
   "execution_count": null,
   "metadata": {},
   "outputs": [],
   "source": [
    "import numpy as np\n",
    "import time"
   ]
  },
  {
   "cell_type": "code",
   "execution_count": null,
   "metadata": {},
   "outputs": [],
   "source": [
    "class Var:\n",
    "    def __init__(self, value, grad = None):\n",
    "        self.value = value\n",
    "        if grad == None:\n",
    "            self.grad = np.zeros(value.shape)\n",
    "        else:\n",
    "            self.grad = grad"
   ]
  },
  {
   "cell_type": "code",
   "execution_count": null,
   "metadata": {},
   "outputs": [],
   "source": [
    "class PerceptronGate:\n",
    "    def __init__(self):\n",
    "        self.x = None\n",
    "        self.y = None\n",
    "        self.z = None\n",
    "    def sigmoid(x):\n",
    "        return 1/(1+np.exp(-x))\n",
    "    def forward(self, x, y):\n",
    "        self.x = x\n",
    "        self.y = y\n",
    "        dotProd = self.x.value.dot(self.y.value)\n",
    "        s = PerceptronGate.sigmoid(dotProd)\n",
    "        self.z = Var(s, 0.0)\n",
    "        return self.z\n",
    "    def backward(self):\n",
    "        s = self.z.value\n",
    "        self.x.grad += self.y.value * s * (1 - s) * self.z.grad\n",
    "        self.y.grad += self.x.value * s * (1 - s) * self.z.grad"
   ]
  },
  {
   "cell_type": "code",
   "execution_count": null,
   "metadata": {},
   "outputs": [],
   "source": [
    "class LossGate:\n",
    "    def __init__(self):\n",
    "        self.x = None\n",
    "        self.y = None\n",
    "        self.z = None\n",
    "    def forward(self, x, y):\n",
    "        self.x = x\n",
    "        self.y = y\n",
    "        self.z = Var(0.5*(self.x.value-self.y.value)**2, 0.0)\n",
    "        return self.z\n",
    "    def backward(self):\n",
    "        self.x.grad += (self.x.value-self.y.value) * self.z.grad\n",
    "        self.y.grad += -1.0*(self.x.value-self.y.value) * self.z.grad"
   ]
  },
  {
   "cell_type": "code",
   "execution_count": null,
   "metadata": {},
   "outputs": [],
   "source": [
    "# value and gates definition\n",
    "w = Var(np.array([2.0,-3.0,-3.0]))\n",
    "x = Var(np.array([-1.0, -2.0, 1.0]))\n",
    "y = Var(np.random.rand(), 0)\n",
    "\n",
    "perceptron = PerceptronGate()\n",
    "loss = LossGate()"
   ]
  },
  {
   "cell_type": "code",
   "execution_count": null,
   "metadata": {},
   "outputs": [],
   "source": [
    "# forward pass\n",
    "def forwardNetwork():\n",
    "    p = perceptron.forward(w,x)\n",
    "    return loss.forward(p,y)"
   ]
  },
  {
   "cell_type": "code",
   "execution_count": null,
   "metadata": {},
   "outputs": [],
   "source": [
    "# backward pass\n",
    "def backwardNetwork(output):\n",
    "    output.grad = 1.0;\n",
    "    loss.backward()\n",
    "    perceptron.backward()"
   ]
  },
  {
   "cell_type": "code",
   "execution_count": null,
   "metadata": {},
   "outputs": [],
   "source": [
    "# gradient descent\n",
    "step_size = 0.01;\n",
    "s = forwardNetwork()\n",
    "while s.value > 1e-3:\n",
    "    backwardNetwork(s)\n",
    "    w.value -= step_size * w.grad \n",
    "    #x.value -= step_size * x.grad\n",
    "    s = forwardNetwork()\n",
    "    print('current loss: ' + str(s.value))\n",
    "    time.sleep(0.25)"
   ]
  }
 ],
 "metadata": {
  "kernelspec": {
   "display_name": "Python 3",
   "language": "python",
   "name": "python3"
  },
  "language_info": {
   "codemirror_mode": {
    "name": "ipython",
    "version": 3
   },
   "file_extension": ".py",
   "mimetype": "text/x-python",
   "name": "python",
   "nbconvert_exporter": "python",
   "pygments_lexer": "ipython3",
   "version": "3.6.3"
  }
 },
 "nbformat": 4,
 "nbformat_minor": 2
}
