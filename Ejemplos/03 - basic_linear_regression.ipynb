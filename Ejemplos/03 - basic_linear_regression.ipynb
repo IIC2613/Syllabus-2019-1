{
 "cells": [
  {
   "cell_type": "code",
   "execution_count": null,
   "metadata": {},
   "outputs": [],
   "source": [
    "import numpy as np\n",
    "import matplotlib.pyplot as plt\n",
    "import sklearn.linear_model as models\n",
    "from sklearn.pipeline import Pipeline\n",
    "from sklearn.preprocessing import PolynomialFeatures\n",
    "from sklearn.model_selection import cross_val_score"
   ]
  },
  {
   "cell_type": "code",
   "execution_count": null,
   "metadata": {},
   "outputs": [],
   "source": [
    "import time\n",
    "def true_fun(X):\n",
    "    return 66 * X\n",
    "np.random.seed(int(time.time()))\n",
    "n_samples = 30\n",
    "X = 40+200*np.sort(np.random.rand(n_samples,1))\n",
    "Y = true_fun(X) + np.random.randn(n_samples,1) * 2000"
   ]
  },
  {
   "cell_type": "code",
   "execution_count": null,
   "metadata": {},
   "outputs": [],
   "source": [
    "plt.rcParams['figure.figsize'] = [15, 10]\n",
    "plt.rcParams.update({'font.size': 16})\n",
    "polynomial_features = PolynomialFeatures(degree=1, include_bias=True)\n",
    "regression = models.LinearRegression()\n",
    "pipeline = Pipeline([(\"polynomial_features\", polynomial_features), (\"linear_regression\", regression)])\n",
    "pipeline.fit(X, Y)\n",
    "scores = cross_val_score(pipeline, X, Y, scoring=\"neg_mean_squared_error\", cv=10)\n",
    "X_test = np.linspace([0], [250], 100)\n",
    "plt.plot(X_test, pipeline.predict(X_test), color='orange')\n",
    "plt.scatter(X, Y, edgecolor='b', s=100)\n",
    "plt.xlabel(\"Superficie (m^2)\")\n",
    "plt.ylabel(\"Precio (UF)\")\n",
    "plt.legend(loc=\"best\")\n",
    "plt.show()"
   ]
  },
  {
   "cell_type": "code",
   "execution_count": null,
   "metadata": {},
   "outputs": [],
   "source": [
    "theta = np.random.randn(1,1)\n",
    "b = np.random.randn(1,1)\n",
    "learning_rate = 1e-5\n",
    "loss = 1e10\n",
    "iteration = 1\n",
    "dec = 0.1\n",
    "while dec < 0.9:\n",
    "    Y_pred = X.dot(theta) + b\n",
    "    new_loss = 0.5*np.square(Y_pred - Y).sum()/n_samples\n",
    "    dec = new_loss/loss\n",
    "    loss = new_loss\n",
    "    print(\"Loss at iteration %d is:\" % iteration, loss)\n",
    "\n",
    "    grad_theta = X.T.dot(Y_pred - Y)/n_samples\n",
    "    grad_b = (Y_pred - Y).sum(keepdims=True)/n_samples\n",
    "    theta -= learning_rate * grad_theta\n",
    "    b -= learning_rate * grad_b\n",
    "    iteration+=1"
   ]
  },
  {
   "cell_type": "code",
   "execution_count": null,
   "metadata": {},
   "outputs": [],
   "source": [
    "plt.rcParams['figure.figsize'] = [15, 10]\n",
    "plt.rcParams.update({'font.size': 16})\n",
    "X_test = np.linspace([0], [250], 100)\n",
    "\n",
    "plt.plot(X_test, X_test.dot(theta), color='orange')\n",
    "plt.scatter(X, Y, edgecolor='b', s=100)\n",
    "plt.xlabel(\"Superficie (m^2)\")\n",
    "plt.ylabel(\"Precio (UF)\")\n",
    "plt.legend(loc=\"best\")\n",
    "plt.show()"
   ]
  }
 ],
 "metadata": {
  "kernelspec": {
   "display_name": "Python 3",
   "language": "python",
   "name": "python3"
  },
  "language_info": {
   "codemirror_mode": {
    "name": "ipython",
    "version": 3
   },
   "file_extension": ".py",
   "mimetype": "text/x-python",
   "name": "python",
   "nbconvert_exporter": "python",
   "pygments_lexer": "ipython3",
   "version": "3.6.3"
  }
 },
 "nbformat": 4,
 "nbformat_minor": 2
}
