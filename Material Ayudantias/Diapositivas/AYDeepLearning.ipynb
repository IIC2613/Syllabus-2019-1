{
  "nbformat": 4,
  "nbformat_minor": 0,
  "metadata": {
    "colab": {
      "name": "AYDeepLearning.ipynb",
      "version": "0.3.2",
      "provenance": [],
      "collapsed_sections": [],
      "toc_visible": true
    },
    "kernelspec": {
      "name": "python3",
      "display_name": "Python 3"
    },
    "accelerator": "GPU"
  },
  "cells": [
    {
      "cell_type": "markdown",
      "metadata": {
        "id": "SkxBTfZThuFi",
        "colab_type": "text"
      },
      "source": [
        "# Redes profundas\n",
        "\n",
        "![](http://cs231n.github.io/assets/nn1/neural_net2.jpeg)"
      ]
    },
    {
      "cell_type": "markdown",
      "metadata": {
        "id": "l-z9wK7xgkT7",
        "colab_type": "text"
      },
      "source": [
        "# Convoluciones\n",
        "\n",
        "![](http://cs231n.github.io/assets/cnn/cnn.jpeg)\n",
        "\n",
        "\n",
        "![](http://cs231n.github.io/assets/cnn/depthcol.jpeg)\n",
        "\n",
        "\n",
        "Se mueve (convolve operation): \n",
        "[link funcionando](http://cs231n.github.io/convolutional-networks/)\n",
        "\n"
      ]
    },
    {
      "cell_type": "markdown",
      "metadata": {
        "id": "vPatJjuchbBQ",
        "colab_type": "text"
      },
      "source": [
        "# Pooling\n",
        "\n",
        "![](http://cs231n.github.io/assets/cnn/maxpool.jpeg)\n",
        "\n"
      ]
    },
    {
      "cell_type": "markdown",
      "metadata": {
        "id": "1WWN221BiKaF",
        "colab_type": "text"
      },
      "source": [
        "# Hacer sus propias redes\n",
        "\n",
        "Usaremos [Keras](https://keras.io/)."
      ]
    },
    {
      "cell_type": "code",
      "metadata": {
        "id": "tZl2rzRn_2jV",
        "colab_type": "code",
        "colab": {}
      },
      "source": [
        "#Definicion de librerias con la funciones que seran utilizadas por Keras. \n",
        "import keras\n",
        "from keras.models import Sequential, Model\n",
        "from keras.layers import Conv2D, MaxPooling2D, Dense, Activation, Dropout, Flatten, GlobalAveragePooling2D\n",
        "from keras import optimizers\n",
        "from keras.applications.resnet50 import ResNet50\n",
        "from keras.preprocessing.image import ImageDataGenerator\n",
        "import pickle\n",
        "from keras.callbacks import ModelCheckpoint\n",
        "from IPython.display import Image, display\n",
        "import os\n",
        "import numpy as np\n",
        "from sklearn.metrics import classification_report, confusion_matrix"
      ],
      "execution_count": 0,
      "outputs": []
    },
    {
      "cell_type": "markdown",
      "metadata": {
        "id": "e1Gckt4LjbvA",
        "colab_type": "text"
      },
      "source": [
        "## Red profunda simple"
      ]
    },
    {
      "cell_type": "markdown",
      "metadata": {
        "id": "ZolTaiD5j2xe",
        "colab_type": "text"
      },
      "source": [
        "Creamos un modelo del tipo Sequential."
      ]
    },
    {
      "cell_type": "code",
      "metadata": {
        "id": "pr00_0GRjbJa",
        "colab_type": "code",
        "outputId": "d5c49af2-4134-491e-c350-75d55fea7cbd",
        "colab": {
          "base_uri": "https://localhost:8080/",
          "height": 176
        }
      },
      "source": [
        "model = Sequential() \n",
        "model.add(Dense(1, input_dim=100, activation=\"sigmoid\"))\n",
        "model.summary()"
      ],
      "execution_count": 4,
      "outputs": [
        {
          "output_type": "stream",
          "text": [
            "_________________________________________________________________\n",
            "Layer (type)                 Output Shape              Param #   \n",
            "=================================================================\n",
            "dense_3 (Dense)              (None, 1)                 101       \n",
            "=================================================================\n",
            "Total params: 101\n",
            "Trainable params: 101\n",
            "Non-trainable params: 0\n",
            "_________________________________________________________________\n"
          ],
          "name": "stdout"
        }
      ]
    },
    {
      "cell_type": "code",
      "metadata": {
        "id": "cu7bHuI2j6vy",
        "colab_type": "code",
        "outputId": "5904ed8f-9d28-4891-cc15-b91174ab7d45",
        "colab": {
          "base_uri": "https://localhost:8080/",
          "height": 34
        }
      },
      "source": [
        "model(keras.backend.random_normal((1, 100)))"
      ],
      "execution_count": 5,
      "outputs": [
        {
          "output_type": "execute_result",
          "data": {
            "text/plain": [
              "<tf.Tensor 'sequential_2/dense_3/Sigmoid:0' shape=(1, 1) dtype=float32>"
            ]
          },
          "metadata": {
            "tags": []
          },
          "execution_count": 5
        }
      ]
    },
    {
      "cell_type": "markdown",
      "metadata": {
        "id": "ETh7jIplksH6",
        "colab_type": "text"
      },
      "source": [
        "**¿Podemos convertirla en una red profunda?**\n"
      ]
    },
    {
      "cell_type": "code",
      "metadata": {
        "id": "xAGT9W3AASeD",
        "colab_type": "code",
        "colab": {
          "base_uri": "https://localhost:8080/",
          "height": 212
        },
        "outputId": "53dc51a5-5581-4582-8604-35f5213af866"
      },
      "source": [
        "model = Sequential() \n",
        "model.add(Dense(100, input_dim=100, activation=\"sigmoid\"))\n",
        "model.add(Dense(1, input_dim=100, activation=\"sigmoid\"))\n",
        "model.summary()"
      ],
      "execution_count": 6,
      "outputs": [
        {
          "output_type": "stream",
          "text": [
            "_________________________________________________________________\n",
            "Layer (type)                 Output Shape              Param #   \n",
            "=================================================================\n",
            "dense_4 (Dense)              (None, 100)               10100     \n",
            "_________________________________________________________________\n",
            "dense_5 (Dense)              (None, 1)                 101       \n",
            "=================================================================\n",
            "Total params: 10,201\n",
            "Trainable params: 10,201\n",
            "Non-trainable params: 0\n",
            "_________________________________________________________________\n"
          ],
          "name": "stdout"
        }
      ]
    },
    {
      "cell_type": "markdown",
      "metadata": {
        "id": "BktXCdfBAexZ",
        "colab_type": "text"
      },
      "source": [
        "**¿Y podemos convertirla en clasificación multiclase?**"
      ]
    },
    {
      "cell_type": "code",
      "metadata": {
        "id": "AxBJXR9gAXCn",
        "colab_type": "code",
        "colab": {
          "base_uri": "https://localhost:8080/",
          "height": 212
        },
        "outputId": "5ed901eb-00d4-4c77-9b8d-d8b06cdd82cd"
      },
      "source": [
        "model = Sequential() \n",
        "model.add(Dense(100, input_dim=100, activation=\"sigmoid\"))\n",
        "model.add(Dense(10, input_dim=100, activation=\"softmax\"))\n",
        "model.summary()"
      ],
      "execution_count": 7,
      "outputs": [
        {
          "output_type": "stream",
          "text": [
            "_________________________________________________________________\n",
            "Layer (type)                 Output Shape              Param #   \n",
            "=================================================================\n",
            "dense_6 (Dense)              (None, 100)               10100     \n",
            "_________________________________________________________________\n",
            "dense_7 (Dense)              (None, 10)                1010      \n",
            "=================================================================\n",
            "Total params: 11,110\n",
            "Trainable params: 11,110\n",
            "Non-trainable params: 0\n",
            "_________________________________________________________________\n"
          ],
          "name": "stdout"
        }
      ]
    },
    {
      "cell_type": "markdown",
      "metadata": {
        "id": "oNS4CnXAB7ed",
        "colab_type": "text"
      },
      "source": [
        "##  VGG19\n",
        "\n",
        "\n",
        "![](https://cdn-images-1.medium.com/max/1600/1*cufAO77aeSWdShs3ba5ndg.jpeg)"
      ]
    },
    {
      "cell_type": "code",
      "metadata": {
        "id": "7w82ps5CCNCx",
        "colab_type": "code",
        "colab": {}
      },
      "source": [
        "modelVGG19 = Sequential() "
      ],
      "execution_count": 0,
      "outputs": []
    },
    {
      "cell_type": "code",
      "metadata": {
        "id": "pyUtGZQhAeWy",
        "colab_type": "code",
        "colab": {}
      },
      "source": [
        "# definir primer bloque de VGG19.\n",
        "modelVGG19.add(Conv2D(64, (3, 3), input_shape=(224, 224, 3), strides=(1, 1), activation=\"relu\", padding=\"same\")) \n",
        "modelVGG19.add(Conv2D(64, (3, 3), strides=(1, 1), activation=\"relu\", padding=\"same\")) \n",
        "modelVGG19.add(MaxPooling2D((2,2), strides=(2,2)))"
      ],
      "execution_count": 0,
      "outputs": []
    },
    {
      "cell_type": "code",
      "metadata": {
        "id": "VFXfr3m9ArlK",
        "colab_type": "code",
        "outputId": "025bd044-7bc5-4ae2-925c-1eb66af6a7be",
        "colab": {
          "base_uri": "https://localhost:8080/",
          "height": 354
        }
      },
      "source": [
        "# definir segundo bloque\n",
        "modelVGG19.add(Conv2D(128, (3, 3), strides=(1, 1), activation=\"relu\", padding=\"same\")) \n",
        "modelVGG19.add(Conv2D(128, (3, 3), strides=(1, 1), activation=\"relu\", padding=\"same\")) \n",
        "modelVGG19.add(MaxPooling2D((2,2), strides=(2,2)))\n",
        "modelVGG19.summary()"
      ],
      "execution_count": 10,
      "outputs": [
        {
          "output_type": "stream",
          "text": [
            "_________________________________________________________________\n",
            "Layer (type)                 Output Shape              Param #   \n",
            "=================================================================\n",
            "conv2d_1 (Conv2D)            (None, 224, 224, 64)      1792      \n",
            "_________________________________________________________________\n",
            "conv2d_2 (Conv2D)            (None, 224, 224, 64)      36928     \n",
            "_________________________________________________________________\n",
            "max_pooling2d_1 (MaxPooling2 (None, 112, 112, 64)      0         \n",
            "_________________________________________________________________\n",
            "conv2d_3 (Conv2D)            (None, 112, 112, 128)     73856     \n",
            "_________________________________________________________________\n",
            "conv2d_4 (Conv2D)            (None, 112, 112, 128)     147584    \n",
            "_________________________________________________________________\n",
            "max_pooling2d_2 (MaxPooling2 (None, 56, 56, 128)       0         \n",
            "=================================================================\n",
            "Total params: 260,160\n",
            "Trainable params: 260,160\n",
            "Non-trainable params: 0\n",
            "_________________________________________________________________\n"
          ],
          "name": "stdout"
        }
      ]
    },
    {
      "cell_type": "code",
      "metadata": {
        "id": "X2SbHrNqCxmR",
        "colab_type": "code",
        "outputId": "c153e1d1-1a26-455c-a82f-9261af5485fe",
        "colab": {
          "base_uri": "https://localhost:8080/",
          "height": 34
        }
      },
      "source": [
        "# probamos modelo con \"dummy\" input\n",
        "modelVGG19(keras.backend.random_normal((1, 224, 224, 3))).shape"
      ],
      "execution_count": 11,
      "outputs": [
        {
          "output_type": "execute_result",
          "data": {
            "text/plain": [
              "TensorShape([Dimension(1), Dimension(56), Dimension(56), Dimension(128)])"
            ]
          },
          "metadata": {
            "tags": []
          },
          "execution_count": 11
        }
      ]
    },
    {
      "cell_type": "markdown",
      "metadata": {
        "id": "5O-_l-buCF69",
        "colab_type": "text"
      },
      "source": [
        "En las lineas anteriores vemos como se definen los dos primeros bloques de VGG19 y lugo probamos la arquitectura usando un tensor que representa un batch de una imagen de las dimensiones pedidas.\n",
        "El output de la operacion de aplicar el modelo sobre el tensor de prueba nos devuelve una salida de (*batch_size*, 56, 56, 128) que tiene sentido considerando que corresponde con lo predicho por `model.summary()`. \n",
        "El número de canales corresponde a el numero de filtros convolucionales aplicados en la conv2d_16.\n",
        "\n",
        "Podemos ver que hasta ahora van 260160 parametros entrenables.\n"
      ]
    },
    {
      "cell_type": "code",
      "metadata": {
        "id": "EWj6-vszERYW",
        "colab_type": "code",
        "outputId": "7cd6547b-11e5-4813-b366-f8d9c20daabc",
        "colab": {
          "base_uri": "https://localhost:8080/",
          "height": 532
        }
      },
      "source": [
        "# definir tercer bloque\n",
        "modelVGG19.add(Conv2D(256, (3, 3), strides=(1, 1), activation=\"relu\", padding=\"same\")) \n",
        "modelVGG19.add(Conv2D(256, (3, 3), strides=(1, 1), activation=\"relu\", padding=\"same\")) \n",
        "modelVGG19.add(Conv2D(256, (3, 3), strides=(1, 1), activation=\"relu\", padding=\"same\")) \n",
        "modelVGG19.add(Conv2D(256, (3, 3), strides=(1, 1), activation=\"relu\", padding=\"same\")) \n",
        "modelVGG19.add(MaxPooling2D((2,2), strides=(2,2)))\n",
        "modelVGG19.summary()"
      ],
      "execution_count": 12,
      "outputs": [
        {
          "output_type": "stream",
          "text": [
            "_________________________________________________________________\n",
            "Layer (type)                 Output Shape              Param #   \n",
            "=================================================================\n",
            "conv2d_1 (Conv2D)            (None, 224, 224, 64)      1792      \n",
            "_________________________________________________________________\n",
            "conv2d_2 (Conv2D)            (None, 224, 224, 64)      36928     \n",
            "_________________________________________________________________\n",
            "max_pooling2d_1 (MaxPooling2 (None, 112, 112, 64)      0         \n",
            "_________________________________________________________________\n",
            "conv2d_3 (Conv2D)            (None, 112, 112, 128)     73856     \n",
            "_________________________________________________________________\n",
            "conv2d_4 (Conv2D)            (None, 112, 112, 128)     147584    \n",
            "_________________________________________________________________\n",
            "max_pooling2d_2 (MaxPooling2 (None, 56, 56, 128)       0         \n",
            "_________________________________________________________________\n",
            "conv2d_5 (Conv2D)            (None, 56, 56, 256)       295168    \n",
            "_________________________________________________________________\n",
            "conv2d_6 (Conv2D)            (None, 56, 56, 256)       590080    \n",
            "_________________________________________________________________\n",
            "conv2d_7 (Conv2D)            (None, 56, 56, 256)       590080    \n",
            "_________________________________________________________________\n",
            "conv2d_8 (Conv2D)            (None, 56, 56, 256)       590080    \n",
            "_________________________________________________________________\n",
            "max_pooling2d_3 (MaxPooling2 (None, 28, 28, 256)       0         \n",
            "=================================================================\n",
            "Total params: 2,325,568\n",
            "Trainable params: 2,325,568\n",
            "Non-trainable params: 0\n",
            "_________________________________________________________________\n"
          ],
          "name": "stdout"
        }
      ]
    },
    {
      "cell_type": "code",
      "metadata": {
        "id": "NDeHQgt6E5wf",
        "colab_type": "code",
        "outputId": "a8f46df8-f12f-4f99-f65a-dc2e4edb0bf2",
        "colab": {
          "base_uri": "https://localhost:8080/",
          "height": 34
        }
      },
      "source": [
        "modelVGG19.output_shape"
      ],
      "execution_count": 13,
      "outputs": [
        {
          "output_type": "execute_result",
          "data": {
            "text/plain": [
              "(None, 28, 28, 256)"
            ]
          },
          "metadata": {
            "tags": []
          },
          "execution_count": 13
        }
      ]
    },
    {
      "cell_type": "markdown",
      "metadata": {
        "id": "RVU_VvqWE_99",
        "colab_type": "text"
      },
      "source": [
        "Podemos ver que para el tercer bloque agregamos las 4 capas convolucionales (de 256 filtros cada una) seguidas por maxpooling. Se sigue usando relu.\n",
        "\n",
        "Finalmente, podemos ver de output_shape que las dimensiones cambiaron y ahora la salida es de  (*batch_size*, 56, 56, 256). "
      ]
    },
    {
      "cell_type": "code",
      "metadata": {
        "id": "6A1Lwj5sFlau",
        "colab_type": "code",
        "colab": {}
      },
      "source": [
        "# definir cuarto bloque\n",
        "modelVGG19.add(Conv2D(512, (3, 3), strides=(1, 1), activation=\"relu\", padding=\"same\")) \n",
        "modelVGG19.add(Conv2D(512, (3, 3), strides=(1, 1), activation=\"relu\", padding=\"same\")) \n",
        "modelVGG19.add(Conv2D(512, (3, 3), strides=(1, 1), activation=\"relu\", padding=\"same\")) \n",
        "modelVGG19.add(Conv2D(512, (3, 3), strides=(1, 1), activation=\"relu\", padding=\"same\")) \n",
        "modelVGG19.add(MaxPooling2D((2,2), strides=(2,2)))"
      ],
      "execution_count": 0,
      "outputs": []
    },
    {
      "cell_type": "code",
      "metadata": {
        "id": "s1IC_MEtGGg-",
        "colab_type": "code",
        "outputId": "112160ef-2818-467e-beb8-a00cde82dc25",
        "colab": {
          "base_uri": "https://localhost:8080/",
          "height": 887
        }
      },
      "source": [
        "# definir quinto bloque\n",
        "modelVGG19.add(Conv2D(512, (3, 3), strides=(1, 1), activation=\"relu\", padding=\"same\")) \n",
        "modelVGG19.add(Conv2D(512, (3, 3), strides=(1, 1), activation=\"relu\", padding=\"same\")) \n",
        "modelVGG19.add(Conv2D(512, (3, 3), strides=(1, 1), activation=\"relu\", padding=\"same\")) \n",
        "modelVGG19.add(Conv2D(512, (3, 3), strides=(1, 1), activation=\"relu\", padding=\"same\")) \n",
        "modelVGG19.add(MaxPooling2D((2,2), strides=(2,2)))\n",
        "modelVGG19.summary()"
      ],
      "execution_count": 15,
      "outputs": [
        {
          "output_type": "stream",
          "text": [
            "_________________________________________________________________\n",
            "Layer (type)                 Output Shape              Param #   \n",
            "=================================================================\n",
            "conv2d_1 (Conv2D)            (None, 224, 224, 64)      1792      \n",
            "_________________________________________________________________\n",
            "conv2d_2 (Conv2D)            (None, 224, 224, 64)      36928     \n",
            "_________________________________________________________________\n",
            "max_pooling2d_1 (MaxPooling2 (None, 112, 112, 64)      0         \n",
            "_________________________________________________________________\n",
            "conv2d_3 (Conv2D)            (None, 112, 112, 128)     73856     \n",
            "_________________________________________________________________\n",
            "conv2d_4 (Conv2D)            (None, 112, 112, 128)     147584    \n",
            "_________________________________________________________________\n",
            "max_pooling2d_2 (MaxPooling2 (None, 56, 56, 128)       0         \n",
            "_________________________________________________________________\n",
            "conv2d_5 (Conv2D)            (None, 56, 56, 256)       295168    \n",
            "_________________________________________________________________\n",
            "conv2d_6 (Conv2D)            (None, 56, 56, 256)       590080    \n",
            "_________________________________________________________________\n",
            "conv2d_7 (Conv2D)            (None, 56, 56, 256)       590080    \n",
            "_________________________________________________________________\n",
            "conv2d_8 (Conv2D)            (None, 56, 56, 256)       590080    \n",
            "_________________________________________________________________\n",
            "max_pooling2d_3 (MaxPooling2 (None, 28, 28, 256)       0         \n",
            "_________________________________________________________________\n",
            "conv2d_9 (Conv2D)            (None, 28, 28, 512)       1180160   \n",
            "_________________________________________________________________\n",
            "conv2d_10 (Conv2D)           (None, 28, 28, 512)       2359808   \n",
            "_________________________________________________________________\n",
            "conv2d_11 (Conv2D)           (None, 28, 28, 512)       2359808   \n",
            "_________________________________________________________________\n",
            "conv2d_12 (Conv2D)           (None, 28, 28, 512)       2359808   \n",
            "_________________________________________________________________\n",
            "max_pooling2d_4 (MaxPooling2 (None, 14, 14, 512)       0         \n",
            "_________________________________________________________________\n",
            "conv2d_13 (Conv2D)           (None, 14, 14, 512)       2359808   \n",
            "_________________________________________________________________\n",
            "conv2d_14 (Conv2D)           (None, 14, 14, 512)       2359808   \n",
            "_________________________________________________________________\n",
            "conv2d_15 (Conv2D)           (None, 14, 14, 512)       2359808   \n",
            "_________________________________________________________________\n",
            "conv2d_16 (Conv2D)           (None, 14, 14, 512)       2359808   \n",
            "_________________________________________________________________\n",
            "max_pooling2d_5 (MaxPooling2 (None, 7, 7, 512)         0         \n",
            "=================================================================\n",
            "Total params: 20,024,384\n",
            "Trainable params: 20,024,384\n",
            "Non-trainable params: 0\n",
            "_________________________________________________________________\n"
          ],
          "name": "stdout"
        }
      ]
    },
    {
      "cell_type": "markdown",
      "metadata": {
        "id": "x6Dvu40MGdsD",
        "colab_type": "text"
      },
      "source": [
        "Observamos que vamos en ~20 millones de parametros entrenables (20,024,384 para que no me bajen la nota).\n",
        "La red tiene las 16 capas convolucionales que corresponden según el paper original y observamos que las dimensiones de salida  (*batch_size*, 7, 7, 512) corresponden a las dimensiones que debe tener. Con las 4 nuevas capas de 512 filtros de 3x3 cada una del 4 bloque, y otras tantas por el quinto bloque.\n",
        "Verifico esto con el código pytorch en el que me basé [](https://github.com/pytorch/vision/blob/master/torchvision/models/vgg.py) donde puede verse que el clasificador final recibe entradas de 512 * 7 * 7.\n"
      ]
    },
    {
      "cell_type": "markdown",
      "metadata": {
        "id": "wuWDPjtmIMps",
        "colab_type": "text"
      },
      "source": [
        "## Agregamos capas fully connected"
      ]
    },
    {
      "cell_type": "code",
      "metadata": {
        "id": "bD-oi2CPHysK",
        "colab_type": "code",
        "colab": {}
      },
      "source": [
        "# aplanar salida para convertirla en vector (necesario para capas fully connected)\n",
        "modelVGG19.add(Flatten())"
      ],
      "execution_count": 0,
      "outputs": []
    },
    {
      "cell_type": "code",
      "metadata": {
        "id": "B2CIRk9jI8yP",
        "colab_type": "code",
        "outputId": "bf81e57d-9c84-472f-f7c1-b6e565da4090",
        "colab": {
          "base_uri": "https://localhost:8080/",
          "height": 34
        }
      },
      "source": [
        "modelVGG19.output_shape[1] == (7 * 7 * 512)"
      ],
      "execution_count": 17,
      "outputs": [
        {
          "output_type": "execute_result",
          "data": {
            "text/plain": [
              "True"
            ]
          },
          "metadata": {
            "tags": []
          },
          "execution_count": 17
        }
      ]
    },
    {
      "cell_type": "markdown",
      "metadata": {
        "id": "-fNQLPFtJGmL",
        "colab_type": "text"
      },
      "source": [
        "Como esperabamos obtenemos que despues del flatten las dimensiones son las mismas pero la forma del tensor es la que cambia. En memoria esto se ve como un cambio en la abstracción que contiene al tensor y no en el tensor mismo como podemos ver en la documentacion oficial [aca](https://www.tensorflow.org/api_docs/python/tf/keras/layers/Flatten)."
      ]
    },
    {
      "cell_type": "code",
      "metadata": {
        "id": "s4-WKEZLJAZm",
        "colab_type": "code",
        "colab": {}
      },
      "source": [
        "modelVGG19.add(Dense(4096, activation=\"relu\"))"
      ],
      "execution_count": 0,
      "outputs": []
    },
    {
      "cell_type": "code",
      "metadata": {
        "id": "rtnZZ3lCKCEg",
        "colab_type": "code",
        "outputId": "55a36a5e-b6c2-4d87-a391-3bd8539e49fb",
        "colab": {
          "base_uri": "https://localhost:8080/",
          "height": 958
        }
      },
      "source": [
        "modelVGG19.summary()"
      ],
      "execution_count": 19,
      "outputs": [
        {
          "output_type": "stream",
          "text": [
            "_________________________________________________________________\n",
            "Layer (type)                 Output Shape              Param #   \n",
            "=================================================================\n",
            "conv2d_1 (Conv2D)            (None, 224, 224, 64)      1792      \n",
            "_________________________________________________________________\n",
            "conv2d_2 (Conv2D)            (None, 224, 224, 64)      36928     \n",
            "_________________________________________________________________\n",
            "max_pooling2d_1 (MaxPooling2 (None, 112, 112, 64)      0         \n",
            "_________________________________________________________________\n",
            "conv2d_3 (Conv2D)            (None, 112, 112, 128)     73856     \n",
            "_________________________________________________________________\n",
            "conv2d_4 (Conv2D)            (None, 112, 112, 128)     147584    \n",
            "_________________________________________________________________\n",
            "max_pooling2d_2 (MaxPooling2 (None, 56, 56, 128)       0         \n",
            "_________________________________________________________________\n",
            "conv2d_5 (Conv2D)            (None, 56, 56, 256)       295168    \n",
            "_________________________________________________________________\n",
            "conv2d_6 (Conv2D)            (None, 56, 56, 256)       590080    \n",
            "_________________________________________________________________\n",
            "conv2d_7 (Conv2D)            (None, 56, 56, 256)       590080    \n",
            "_________________________________________________________________\n",
            "conv2d_8 (Conv2D)            (None, 56, 56, 256)       590080    \n",
            "_________________________________________________________________\n",
            "max_pooling2d_3 (MaxPooling2 (None, 28, 28, 256)       0         \n",
            "_________________________________________________________________\n",
            "conv2d_9 (Conv2D)            (None, 28, 28, 512)       1180160   \n",
            "_________________________________________________________________\n",
            "conv2d_10 (Conv2D)           (None, 28, 28, 512)       2359808   \n",
            "_________________________________________________________________\n",
            "conv2d_11 (Conv2D)           (None, 28, 28, 512)       2359808   \n",
            "_________________________________________________________________\n",
            "conv2d_12 (Conv2D)           (None, 28, 28, 512)       2359808   \n",
            "_________________________________________________________________\n",
            "max_pooling2d_4 (MaxPooling2 (None, 14, 14, 512)       0         \n",
            "_________________________________________________________________\n",
            "conv2d_13 (Conv2D)           (None, 14, 14, 512)       2359808   \n",
            "_________________________________________________________________\n",
            "conv2d_14 (Conv2D)           (None, 14, 14, 512)       2359808   \n",
            "_________________________________________________________________\n",
            "conv2d_15 (Conv2D)           (None, 14, 14, 512)       2359808   \n",
            "_________________________________________________________________\n",
            "conv2d_16 (Conv2D)           (None, 14, 14, 512)       2359808   \n",
            "_________________________________________________________________\n",
            "max_pooling2d_5 (MaxPooling2 (None, 7, 7, 512)         0         \n",
            "_________________________________________________________________\n",
            "flatten_1 (Flatten)          (None, 25088)             0         \n",
            "_________________________________________________________________\n",
            "dense_8 (Dense)              (None, 4096)              102764544 \n",
            "=================================================================\n",
            "Total params: 122,788,928\n",
            "Trainable params: 122,788,928\n",
            "Non-trainable params: 0\n",
            "_________________________________________________________________\n"
          ],
          "name": "stdout"
        }
      ]
    },
    {
      "cell_type": "markdown",
      "metadata": {
        "id": "7N5nXPENKLQV",
        "colab_type": "text"
      },
      "source": [
        "Vamos en 17 capas con parametros aprendidos. Observamos que sólo la última capa aporta 102,764,544 parametros de los 122,788,928 totales (aporta la mayoría). \n",
        "Como era de esperar, la salida tiene tantas dimensiones como neuronas definimos para la capa. \n",
        "El numero de parametros corresponde a las `(dimensiones de entrada * las dimensiones de salida) + las dimensiones de salida `.\n",
        "Esto se entiende cuando se considera el bias."
      ]
    },
    {
      "cell_type": "code",
      "metadata": {
        "id": "w24hL7aHI_i5",
        "colab_type": "code",
        "colab": {}
      },
      "source": [
        "modelVGG19.add(Dense(4096, activation=\"relu\"))\n",
        "modelVGG19.add(Dense(1000, activation=\"softmax\"))"
      ],
      "execution_count": 0,
      "outputs": []
    },
    {
      "cell_type": "code",
      "metadata": {
        "id": "PTf9wj3TK-Tl",
        "colab_type": "code",
        "outputId": "23075223-54bd-4431-bbbe-98ca8e8904ff",
        "colab": {
          "base_uri": "https://localhost:8080/",
          "height": 1030
        }
      },
      "source": [
        "modelVGG19.summary()"
      ],
      "execution_count": 21,
      "outputs": [
        {
          "output_type": "stream",
          "text": [
            "_________________________________________________________________\n",
            "Layer (type)                 Output Shape              Param #   \n",
            "=================================================================\n",
            "conv2d_1 (Conv2D)            (None, 224, 224, 64)      1792      \n",
            "_________________________________________________________________\n",
            "conv2d_2 (Conv2D)            (None, 224, 224, 64)      36928     \n",
            "_________________________________________________________________\n",
            "max_pooling2d_1 (MaxPooling2 (None, 112, 112, 64)      0         \n",
            "_________________________________________________________________\n",
            "conv2d_3 (Conv2D)            (None, 112, 112, 128)     73856     \n",
            "_________________________________________________________________\n",
            "conv2d_4 (Conv2D)            (None, 112, 112, 128)     147584    \n",
            "_________________________________________________________________\n",
            "max_pooling2d_2 (MaxPooling2 (None, 56, 56, 128)       0         \n",
            "_________________________________________________________________\n",
            "conv2d_5 (Conv2D)            (None, 56, 56, 256)       295168    \n",
            "_________________________________________________________________\n",
            "conv2d_6 (Conv2D)            (None, 56, 56, 256)       590080    \n",
            "_________________________________________________________________\n",
            "conv2d_7 (Conv2D)            (None, 56, 56, 256)       590080    \n",
            "_________________________________________________________________\n",
            "conv2d_8 (Conv2D)            (None, 56, 56, 256)       590080    \n",
            "_________________________________________________________________\n",
            "max_pooling2d_3 (MaxPooling2 (None, 28, 28, 256)       0         \n",
            "_________________________________________________________________\n",
            "conv2d_9 (Conv2D)            (None, 28, 28, 512)       1180160   \n",
            "_________________________________________________________________\n",
            "conv2d_10 (Conv2D)           (None, 28, 28, 512)       2359808   \n",
            "_________________________________________________________________\n",
            "conv2d_11 (Conv2D)           (None, 28, 28, 512)       2359808   \n",
            "_________________________________________________________________\n",
            "conv2d_12 (Conv2D)           (None, 28, 28, 512)       2359808   \n",
            "_________________________________________________________________\n",
            "max_pooling2d_4 (MaxPooling2 (None, 14, 14, 512)       0         \n",
            "_________________________________________________________________\n",
            "conv2d_13 (Conv2D)           (None, 14, 14, 512)       2359808   \n",
            "_________________________________________________________________\n",
            "conv2d_14 (Conv2D)           (None, 14, 14, 512)       2359808   \n",
            "_________________________________________________________________\n",
            "conv2d_15 (Conv2D)           (None, 14, 14, 512)       2359808   \n",
            "_________________________________________________________________\n",
            "conv2d_16 (Conv2D)           (None, 14, 14, 512)       2359808   \n",
            "_________________________________________________________________\n",
            "max_pooling2d_5 (MaxPooling2 (None, 7, 7, 512)         0         \n",
            "_________________________________________________________________\n",
            "flatten_1 (Flatten)          (None, 25088)             0         \n",
            "_________________________________________________________________\n",
            "dense_8 (Dense)              (None, 4096)              102764544 \n",
            "_________________________________________________________________\n",
            "dense_9 (Dense)              (None, 4096)              16781312  \n",
            "_________________________________________________________________\n",
            "dense_10 (Dense)             (None, 1000)              4097000   \n",
            "=================================================================\n",
            "Total params: 143,667,240\n",
            "Trainable params: 143,667,240\n",
            "Non-trainable params: 0\n",
            "_________________________________________________________________\n"
          ],
          "name": "stdout"
        }
      ]
    },
    {
      "cell_type": "markdown",
      "metadata": {
        "id": "GCi3biUTLGRO",
        "colab_type": "text"
      },
      "source": [
        "Con estas ultimas dos capas la red queda con 19 capas aprendidas (no cuentan las de pooling o activaciones).\n",
        "La ultima capa hace una clasificación a las mil clases que existen en el set de datos [ImageNet](http://www.image-net.org/)"
      ]
    },
    {
      "cell_type": "code",
      "metadata": {
        "id": "laCQQBzklHyw",
        "colab_type": "code",
        "colab": {}
      },
      "source": [
        ""
      ],
      "execution_count": 0,
      "outputs": []
    }
  ]
}